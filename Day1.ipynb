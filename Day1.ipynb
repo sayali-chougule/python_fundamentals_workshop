{
  "nbformat": 4,
  "nbformat_minor": 0,
  "metadata": {
    "colab": {
      "provenance": [],
      "collapsed_sections": [
        "7xfdQYNR14O4",
        "DVvO4-9kFQRO",
        "138ob6SaItve",
        "gZ_oCy4Bx3eb",
        "yWALg_2-MJdr",
        "p6N7HEC1UB2t"
      ]
    },
    "kernelspec": {
      "name": "python3",
      "display_name": "Python 3"
    },
    "language_info": {
      "name": "python"
    }
  },
  "cells": [
    {
      "cell_type": "markdown",
      "source": [
        "# **Python for Beginners : Part 1**"
      ],
      "metadata": {
        "id": "wTFtVCqz1Ktu"
      }
    },
    {
      "cell_type": "markdown",
      "source": [
        "### Topics"
      ],
      "metadata": {
        "id": "tXRGFLeKIlwp"
      }
    },
    {
      "cell_type": "markdown",
      "source": [
        "\n",
        "\n",
        "```\n",
        "# This is formatted as code\n",
        "```\n",
        "\n",
        "Day 1\n",
        "\n",
        "    1.  Set-Up (colab / Anaconda) & Basic Intro\n",
        "    2.  Introduction\n",
        "    3.\tPrint & Input function\n",
        "    4.\tVariables & Data types\n",
        "    5.\tCasting\n",
        "    6.\tStrings & String Formatting\n",
        "    7.\tBasic Mathematical Operations\n",
        "Day 2\n",
        "\n",
        "    1.\tList\n",
        "    2.\tTuples\n",
        "    3.\tSets\n",
        "    4.\tDictionaries\n",
        "    5.\tDF conversions for table creation\n",
        "    6.\tFunctions\n",
        "\n",
        "Day 3\n",
        "\n",
        "    1.\tRange\n",
        "    2.\tLoops – For, while\n",
        "    Conditional Statements\n",
        "    list comprehesion\n",
        "    3.\tBreak & Continue\n",
        "    4.\tTry & Except\n",
        "    5.\tLambda\n",
        "    6.\tArrays\n",
        "    7.\tModules\n",
        "    8.  Random\n",
        "\n",
        "    wrap-up with case study\n",
        "\n",
        "\n",
        "\n"
      ],
      "metadata": {
        "id": "Rjg4AuVc1TyS"
      }
    },
    {
      "cell_type": "markdown",
      "source": [
        "### **1. Introduction to Python -**"
      ],
      "metadata": {
        "id": "7xfdQYNR14O4"
      }
    },
    {
      "cell_type": "markdown",
      "source": [
        "\n",
        "Python is a high-level programming language used to tell computers what to do.\n",
        "It’s known for being simple, readable, and powerful. The syntax is clear and easy to read, it looks like English. You don’t need to memorize complicated rules. Huge community, free libraries, and tons of learning resources.\n",
        "\n",
        "Python is used in:\n",
        "- **Data Science & Machine Learning** – analyzing data, building predictions\n",
        "- **Automation** – saving time by automating daily tasks\n",
        "- **Web Development** – building websites and apps\n",
        "- **AI & Robotics** – powering chatbots,\n",
        "self-driving cars, and voice assistants\n"
      ],
      "metadata": {
        "id": "q6uc_S4JUVJi"
      }
    },
    {
      "cell_type": "markdown",
      "source": [
        "### **2. Print & Input Function**"
      ],
      "metadata": {
        "id": "DVvO4-9kFQRO"
      }
    },
    {
      "cell_type": "markdown",
      "source": [
        "Let’s try the most famous line in programming -"
      ],
      "metadata": {
        "id": "Au2-gH1V9INA"
      }
    },
    {
      "cell_type": "code",
      "execution_count": null,
      "metadata": {
        "id": "5hZYlCT91DUK"
      },
      "outputs": [],
      "source": [
        "print(\"Hello World!\")"
      ]
    },
    {
      "cell_type": "markdown",
      "source": [
        "`print()` is a built-in function in Python. It tells the computer to display whatever is inside the parentheses. **\"Hello World\"** is called a string, meaning text. This line of code simply means, “Hey Python, show this message on the screen!”"
      ],
      "metadata": {
        "id": "Pwutyn15-Ch8"
      }
    },
    {
      "cell_type": "markdown",
      "source": [
        "So far, we told Python what to say. Now let’s make it talk back to us!"
      ],
      "metadata": {
        "id": "Hwfc7bxE-21R"
      }
    },
    {
      "cell_type": "code",
      "source": [
        "user = input(\"What is your name? \")\n",
        "print(user)"
      ],
      "metadata": {
        "id": "Zoa0osKjASKZ"
      },
      "execution_count": null,
      "outputs": []
    },
    {
      "cell_type": "markdown",
      "source": [
        "The `input()` function lets your program take information from the user.\n",
        "When you run the line below, Python waits for you to type something and press Enter. Here, we are assigning the variable `user` to our input."
      ],
      "metadata": {
        "id": "ozrE3Az5At_N"
      }
    },
    {
      "cell_type": "markdown",
      "source": [
        "Now that we’ve got our user’s name, let’s greet them in three different Python styles! Think of this like trying out different ways to say hello, the message is the same, but the style changes"
      ],
      "metadata": {
        "id": "872UixW-CNiV"
      }
    },
    {
      "cell_type": "code",
      "source": [
        "# 1. Using commas (,) in print()\n",
        "print(\"Hello\", user, \"Welcome to Python!\")"
      ],
      "metadata": {
        "id": "oAEijZQ8CMel"
      },
      "execution_count": null,
      "outputs": []
    },
    {
      "cell_type": "markdown",
      "source": [
        "Here, we separate each piece of text with a comma, and Python automatically adds a space between them.\n",
        "\n",
        "But here's the catch, you can’t control the spacing or punctuation easily. So it’s great for quick prints, but not ideal for precise formatting."
      ],
      "metadata": {
        "id": "OPfB-eq3DYS7"
      }
    },
    {
      "cell_type": "code",
      "source": [
        "# 2. Using string concatenation (+)\n",
        "print(\"Hello \"+ user +\", Welcome to Python!\")"
      ],
      "metadata": {
        "id": "hnUngC8S-Bjq"
      },
      "execution_count": null,
      "outputs": []
    },
    {
      "cell_type": "markdown",
      "source": [
        "This method is like building a sentence with LEGO blocks, each piece is joined using `+`. You decide exactly where spaces, commas, or exclamation marks go."
      ],
      "metadata": {
        "id": "t7PH-XQxAusr"
      }
    },
    {
      "cell_type": "code",
      "source": [
        "# 3. Using f-strings (formatted strings)\n",
        "print(f'Hello {user}, Welcome to Python!')"
      ],
      "metadata": {
        "id": "68kqoHof_icg"
      },
      "execution_count": null,
      "outputs": []
    },
    {
      "cell_type": "markdown",
      "source": [
        "This is the modern and most elegant way to include variables inside text.\n",
        "By adding an `f` before the quotes, you can directly place variables inside `{}`. It’s clean, readable, and super handy when you have multiple variables.\n",
        "\n",
        "You can even do math or expressions inside the braces, like:"
      ],
      "metadata": {
        "id": "tNWwJfptAvCB"
      }
    },
    {
      "cell_type": "code",
      "source": [
        "# f-strings with math\n",
        "print(f\"{user} has {2 + 3} new messages!\")"
      ],
      "metadata": {
        "id": "YwXFnGEoAp3X"
      },
      "execution_count": null,
      "outputs": []
    },
    {
      "cell_type": "markdown",
      "source": [
        "### **3. Variables & Data Types**"
      ],
      "metadata": {
        "id": "138ob6SaItve"
      }
    },
    {
      "cell_type": "markdown",
      "source": [
        "##### **3.1 Variables**\n",
        "\n",
        "They are like containers or labels that hold information. You can imagine them as boxes with names written on them and inside each box, you can store some kind of value (number, text, etc.)."
      ],
      "metadata": {
        "id": "CAWUi9c4Md93"
      }
    },
    {
      "cell_type": "code",
      "source": [
        "name = \"John\"\n",
        "age = 25\n",
        "\n",
        "print(name)\n",
        "print(age)"
      ],
      "metadata": {
        "id": "hYEuM7FVF0iA"
      },
      "execution_count": null,
      "outputs": []
    },
    {
      "cell_type": "markdown",
      "source": [
        "Here, the name on the left (`name`, `age`) is the variable name.\n",
        "\n",
        "The value on the right (\"John\", 25) is the data stored inside.\n",
        "\n",
        "The `=` sign is called the assignment operator, it assigns a value to a variable."
      ],
      "metadata": {
        "id": "FveUfU1eNWWL"
      }
    },
    {
      "cell_type": "markdown",
      "source": [
        "##### **Rules for Python variables:**\n",
        "\n",
        "- A variable name must start with a letter or the underscore character\n",
        "- A variable name cannot start with a number\n",
        "- A variable name can only contain alpha-numeric characters and underscores (A-z, 0-9, and _ )\n",
        "- Variable names are case-sensitive (age, Age and AGE are three different variables)\n",
        "- A variable name cannot be any of the Python keywords."
      ],
      "metadata": {
        "id": "z18ytwlfO0tZ"
      }
    },
    {
      "cell_type": "markdown",
      "source": [
        "There are several techniques you can use to make them more readable:"
      ],
      "metadata": {
        "id": "S_rC1tOSPdQA"
      }
    },
    {
      "cell_type": "code",
      "source": [
        "# Camel Case\n",
        "myVariableName = \"John\" # Each word, except the first, starts with a capital letter\n",
        "\n",
        "# Pascal Case\n",
        "MyVariableName = \"John\" # Each word starts with a capital letter\n",
        "\n",
        "# Snake Case\n",
        "my_variable_name = \"John\" # Each word is separated by an underscore character"
      ],
      "metadata": {
        "id": "rCfc0a6zPhFD"
      },
      "execution_count": null,
      "outputs": []
    },
    {
      "cell_type": "markdown",
      "source": [
        "You can give the same value to several variables in just one line. It’s quick, clean, and super handy when you want to set a default value for multiple things.\n",
        "\n",
        "Let’s say you’re building a small game. At the start, every player has the same number of lives, level, and score."
      ],
      "metadata": {
        "id": "Y4JP6e5kQju-"
      }
    },
    {
      "cell_type": "code",
      "source": [
        "lives = level = score = 0\n",
        "print(lives, level, score)"
      ],
      "metadata": {
        "id": "-pLa7LCeQeBI"
      },
      "execution_count": null,
      "outputs": []
    },
    {
      "cell_type": "markdown",
      "source": [
        "**Unpacking — Assigning Multiple Values at Once**\n",
        "\n",
        "Unpacking is like distributing items from a box, each variable gets one value from a collection (like a list or tuple).\n",
        "It’s perfect when you already have data grouped together.\n",
        "\n",
        "Imagine a GPS gives you coordinates in a tuple:"
      ],
      "metadata": {
        "id": "GR1FLHIgQtP8"
      }
    },
    {
      "cell_type": "code",
      "source": [
        "location = (40.7128, -74.0060)\n",
        "latitude, longitude = location\n",
        "\n",
        "print(\"Latitude:\", latitude)\n",
        "print(\"Longitude:\", longitude)"
      ],
      "metadata": {
        "id": "gcS0vFYxQwH9"
      },
      "execution_count": null,
      "outputs": []
    },
    {
      "cell_type": "markdown",
      "source": [
        "***Note*** - Unpacking only works when the number of variables matches the number of values"
      ],
      "metadata": {
        "id": "y0NMsEhcTPsH"
      }
    },
    {
      "cell_type": "markdown",
      "source": [
        "##### **3.2 Data Types**"
      ],
      "metadata": {
        "id": "Zq0kL7JwQT1n"
      }
    },
    {
      "cell_type": "markdown",
      "source": [
        "Now that we know how to create and assign values to variables, let’s explore what kind of values they can hold, that’s where Data Types come in!\n",
        "\n",
        "Python comes with a variety of data types built in — these are the ones you’ll use most often.\n",
        "\n",
        "| Category           | Data Type                          | Description                           | Example                                        |\n",
        "| ------------------ | ---------------------------------- | ------------------------------------- | ---------------------------------------------- |\n",
        "| **Numeric Types**  | `int`, `float`                     | Numbers — whole, decimal  | `10`, `3.14`                                |\n",
        "| **Text Type**      | `str`                              | Sequence of characters (text)         | `\"Hello World\"`                                |\n",
        "| **Sequence Types** | `list`, `tuple`, `range`           | Ordered collections of items          | `[\"apple\", \"banana\"]`, `(1, 2, 3)`, `range(5)` |\n",
        "| **Mapping Type**   | `dict`                             | Stores data in key–value pairs        | `{\"name\": \"Megha\", \"age\": 27}`                 |\n",
        "| **Set Types**      | `set`                              | Unordered collection of unique items  | `{\"red\", \"green\", \"blue\"}`                     |\n",
        "| **Boolean Type**   | `bool`                             | Represents True or False values       | `True`, `False`                                |\n",
        "| **None Type**      | `NoneType`                         | Represents “no value” or “nothing”    | `None`                                         |\n",
        "\n"
      ],
      "metadata": {
        "id": "YMyeptQqWdST"
      }
    },
    {
      "cell_type": "markdown",
      "source": [
        "**3.2.1 Numeric Types**"
      ],
      "metadata": {
        "id": "6-FhsDk6cin4"
      }
    },
    {
      "cell_type": "code",
      "source": [
        "# Int - Whole numbers, positive or negative, without decimals, of unlimited length\n",
        "x = 10\n",
        "\n",
        "# Float - Positive or negative, containing one or more decimals.\n",
        "y = 2.5\n",
        "z = 35e3 # Float can also be scientific numbers with an \"e\" to indicate the power of 10\n",
        "\n",
        "# To verify the type of any object, use the type() function\n",
        "print(type(x), type(y), type(z))"
      ],
      "metadata": {
        "id": "lFghU1MOQZLK"
      },
      "execution_count": null,
      "outputs": []
    },
    {
      "cell_type": "markdown",
      "source": [
        "**3.2.2 Text Type**"
      ],
      "metadata": {
        "id": "9nvXFGPvetZw"
      }
    },
    {
      "cell_type": "code",
      "source": [
        "# Used to store text or a sequence of characters inside quotes\n",
        "\n",
        "name = \"John\"\n",
        "message = 'Welcome to \"Python!\"'\n",
        "print(name, message)"
      ],
      "metadata": {
        "id": "4sw3rbERexYX"
      },
      "execution_count": null,
      "outputs": []
    },
    {
      "cell_type": "code",
      "source": [
        "# Assign a multiline string to a variable by using three quotes\n",
        "\n",
        "msg = \"\"\"John\n",
        "Welcome to \"Python!\"\n",
        "\"\"\"\n",
        "\n",
        "print(msg)\n",
        "\n",
        "# or\n",
        "\n",
        "msg = '''Sarah\n",
        "How're you doing today?\"\n",
        "'''\n",
        "\n",
        "print(msg)"
      ],
      "metadata": {
        "id": "u2vlhP95f0jR"
      },
      "execution_count": null,
      "outputs": []
    },
    {
      "cell_type": "markdown",
      "source": [
        "**Escape Sequences**\n",
        "\n",
        "Escape sequences start with a backslash `\\` and tell Python to treat the next character in a special way.\n",
        "\n",
        "| Escape Sequence | Meaning                           | Example                     | Output                 |\n",
        "| --------------- | --------------------------------- | --------------------------- | ---------------------- |\n",
        "| `\\n`            | New line                          | `\"Hello\\nWorld\"`            | Hello<br>World         |\n",
        "| `\\t`            | Tab (adds space)                  | `\"Python\\tRocks\"`           | Python Rocks           |\n",
        "| `\\\\`            | Backslash itself                  | `\"This is a backslash: \\\\\"` | This is a backslash: \\ |\n",
        "| `\\\"`            | Double quote inside double quotes | `\"He said \\\"Hello!\\\"\"`      | He said \"Hello!\"       |\n",
        "| `\\'`            | Single quote inside single quotes | `'It\\'s fun!'`              | It’s fun!              |\n",
        "\n"
      ],
      "metadata": {
        "id": "TkeKEkWyhz-7"
      }
    },
    {
      "cell_type": "code",
      "source": [
        "text = \"Hello \\\"Python\\\" Lovers!\\nLet's learn some cool things:\\n\\t1. Use \\\\n for new lines\\n\\t2. Use \\\\t for tabs\\n\\t3. Use \\\\\\\\ to print a backslash\"\n",
        "print(text)"
      ],
      "metadata": {
        "id": "ZLDigOqnfoS6"
      },
      "execution_count": null,
      "outputs": []
    },
    {
      "cell_type": "markdown",
      "source": [
        "But sometimes, especially when writing file paths (C:\\new_folder\\data) or regular expressions, you might not want Python to treat `\\` as special.\n",
        "\n",
        "That’s where **raw strings** come to the rescue! Just add an r before your quotes — and Python will treat everything literally."
      ],
      "metadata": {
        "id": "HOV0wapCjlq4"
      }
    },
    {
      "cell_type": "code",
      "source": [
        "text = r\"Hello \\\"Python\\\" Lovers!\\nLet's learn some cool things:\\n\\t1. Use \\\\n for new lines\\n\\t2. Use \\\\t for tabs\\n\\t3. Use \\\\\\\\ to print a backslash\"\n",
        "print(text)"
      ],
      "metadata": {
        "colab": {
          "base_uri": "https://localhost:8080/"
        },
        "id": "AnZ-MPhtkAWE",
        "outputId": "417edcea-0002-448c-bdd7-d2bc5b6fe4f7"
      },
      "execution_count": null,
      "outputs": [
        {
          "output_type": "stream",
          "name": "stdout",
          "text": [
            "Hello \\\"Python\\\" Lovers!\\nLet's learn some cool things:\\n\\t1. Use \\\\n for new lines\\n\\t2. Use \\\\t for tabs\\n\\t3. Use \\\\\\\\ to print a backslash\n"
          ]
        }
      ]
    },
    {
      "cell_type": "markdown",
      "source": [
        "**Type Casting**\n",
        "\n",
        "Sometimes, you’ll need to convert one data type into another, for example, turning a number into text, or text into a number. This process is called Type Casting (or Type Conversion).\n",
        "\n",
        "Python Type Cast in two ways -\n",
        "\n",
        "- ***Implicit Casting*** meaning Python automatically converts one data type to another when needed.\n",
        "- ***Explicit Casting***, You can also manually convert data types using functions like:\n",
        "    - int() → integer\n",
        "    - float() → decimal\n",
        "    - str() → string\n",
        "    - bool() → True/False"
      ],
      "metadata": {
        "id": "nfv3HslBvEmm"
      }
    },
    {
      "cell_type": "code",
      "source": [
        "# Implicit Casting\n",
        "x = 10\n",
        "y = 2.5\n",
        "z = x + y\n",
        "print(z)\n",
        "print(type(z))"
      ],
      "metadata": {
        "id": "mQKNQ_FuvkM1"
      },
      "execution_count": null,
      "outputs": []
    },
    {
      "cell_type": "code",
      "source": [
        "#Explicit Cating\n",
        "x = 5\n",
        "y = 3.7\n",
        "z = \"10\"\n",
        "\n",
        "print(int(y))\n",
        "print(float(x))\n",
        "print(int(z))\n",
        "print(str(x))\n",
        "print(bool(0))\n",
        "print(bool(1))"
      ],
      "metadata": {
        "id": "MA7GA1aWxSn7"
      },
      "execution_count": null,
      "outputs": []
    },
    {
      "cell_type": "markdown",
      "source": [
        "### **4. Basic Mathematical Operations**"
      ],
      "metadata": {
        "id": "yMoe6VweaGu3"
      }
    },
    {
      "cell_type": "markdown",
      "source": [
        "Python can be used as a calculator! You can do all the usual math operations using simple operators."
      ],
      "metadata": {
        "id": "3AaP2UeGayA_"
      }
    },
    {
      "cell_type": "markdown",
      "source": [
        "### **5. String & String Formatting**"
      ],
      "metadata": {
        "id": "gZ_oCy4Bx3eb"
      }
    },
    {
      "cell_type": "markdown",
      "source": [
        "Strings are one of the most common data types in Python, used to store and work with text."
      ],
      "metadata": {
        "id": "_uOXYpUCAjrU"
      }
    },
    {
      "cell_type": "markdown",
      "source": [
        "**String Indexing & Slicing**\n",
        "\n",
        "Strings work like sequences, each character has an index. Square brackets can be used to access elements of the string."
      ],
      "metadata": {
        "id": "fomd1NKhAuE9"
      }
    },
    {
      "cell_type": "code",
      "source": [
        "text = \"Welcome to Python Foundation Webinar\"\n",
        "\n",
        "print(text[0])      # Indexing starts from 0 → prints first character\n",
        "print(text[-1])     # Negative indexing → counts from the end\n",
        "\n",
        "print(text[0:7])    # Slicing → characters from index 0 up to (but not including) 7\n",
        "print(text[11:17])  # Slicing part of string\n",
        "\n",
        "print(text[:7])     # Omitting start means start from 0\n",
        "print(text[11:])    # Omitting end means go till the end\n",
        "\n",
        "print(text[-7:-1])  # Negative slicing → last few characters (excluding last one)\n",
        "\n",
        "print(text[::2])    # Step slicing → skip every 2nd character\n",
        "print(text[::-1])   # Reverse the string (step = -1)"
      ],
      "metadata": {
        "id": "uOhOSNIYxa7R"
      },
      "execution_count": null,
      "outputs": []
    },
    {
      "cell_type": "markdown",
      "source": [
        "Strings come with a lot of built-in tools (called methods) that make text handling super easy!"
      ],
      "metadata": {
        "id": "fcjxKvZNEnv8"
      }
    },
    {
      "cell_type": "markdown",
      "source": [
        "**Checking, Counting, and Measuring**\n",
        "\n",
        "These methods help you get quick information about your string."
      ],
      "metadata": {
        "id": "gxU3CvqbE5Ii"
      }
    },
    {
      "cell_type": "code",
      "source": [
        "print(len(text))        # Returns the number of characters\n",
        "print(text.count(\"on\"))  # Counts how many times 'a' appears\n",
        "print(text.find(\"n\"))   # Finds the index of first 'n'\n",
        "print(text.find(\"z\"))   # Returns -1 if the character is not found"
      ],
      "metadata": {
        "id": "xRKNIFMXC289"
      },
      "execution_count": null,
      "outputs": []
    },
    {
      "cell_type": "markdown",
      "source": [
        "**Changing the Case**\n",
        "\n",
        "You can change how your text looks with these case methods."
      ],
      "metadata": {
        "id": "gh4QlIYoGK1M"
      }
    },
    {
      "cell_type": "code",
      "source": [
        "print(text.upper())      # Converts all letters to uppercase\n",
        "print(text.lower())      # Converts all letters to lowercase\n",
        "print(text.capitalize()) # Only capitalizes the very first letter\n",
        "print(text.title())      # Capitalizes the first letter of each word"
      ],
      "metadata": {
        "id": "V1nzidXOFxg0"
      },
      "execution_count": null,
      "outputs": []
    },
    {
      "cell_type": "markdown",
      "source": [
        "**Cleaning & Replacing Text**\n",
        "\n",
        "Great for cleaning up messy text or changing words."
      ],
      "metadata": {
        "id": "Ae4KxkuHGq3A"
      }
    },
    {
      "cell_type": "code",
      "source": [
        "string = \"  Hello Python!  \"\n",
        "\n",
        "print(string.strip())                         # Removes extra spaces from both ends\n",
        "print(string.replace(\"Python\", \"World\"))      # Replaces 'Python' with 'World'\n",
        "print(string.strip().replace(\"Hello\", \"Hi\"))  # Combines both"
      ],
      "metadata": {
        "id": "i6HuOrIUGZvs"
      },
      "execution_count": null,
      "outputs": []
    },
    {
      "cell_type": "markdown",
      "source": [
        "**Splitting & Joining Strings**"
      ],
      "metadata": {
        "id": "E2eRNGghHUxw"
      }
    },
    {
      "cell_type": "markdown",
      "source": [
        "The general format of `split()` is:\n",
        "\n",
        "`string.split(separator, maxsplit)`\n",
        "\n",
        "\n",
        "separator → what you’re splitting by (like a comma, space, or any symbol).\n",
        "\n",
        "maxsplit → how many splits you want Python to make (optional)."
      ],
      "metadata": {
        "id": "u0j4x4WJPmms"
      }
    },
    {
      "cell_type": "code",
      "source": [
        "text = \"Good Morning everyone,I hope you are enjoying this session,so far how you guys feel about this seesion? \"\n",
        "parts = text.split(\",\", 2)\n",
        "\n",
        "print(parts)"
      ],
      "metadata": {
        "id": "mW5uU81YPiZb"
      },
      "execution_count": null,
      "outputs": []
    },
    {
      "cell_type": "markdown",
      "source": [
        "You can assign the variables to each of the part"
      ],
      "metadata": {
        "id": "JJKz3HlBQ8MH"
      }
    },
    {
      "cell_type": "code",
      "source": [
        "greeting, part1, part2 = text.split(\",\", 2)\n",
        "\n",
        "print(greeting)\n",
        "print(part1)\n",
        "print(part2)"
      ],
      "metadata": {
        "id": "r8GivblBQ7rz"
      },
      "execution_count": null,
      "outputs": []
    },
    {
      "cell_type": "markdown",
      "source": [
        "`join()` is used to combine (concatenate) elements of a list into a single string, using a separator of your choice.\n",
        "\n",
        "Syntax -\n",
        "`separator.join(iterable)`\n",
        "\n",
        "separator → the string you want between each element (like \" \", \",\", \"\\n\", etc.)\n",
        "\n",
        "iterable → a list, tuple, or any collection of strings you want to join together."
      ],
      "metadata": {
        "id": "wKZhYaEpRkft"
      }
    },
    {
      "cell_type": "code",
      "source": [
        "joined = \"\\n\".join(parts)\n",
        "print(joined)"
      ],
      "metadata": {
        "id": "oCMIjVbdHWZs"
      },
      "execution_count": null,
      "outputs": []
    },
    {
      "cell_type": "markdown",
      "source": [
        "**Checking Start or End**\n",
        "\n",
        "Perfect for checking start & end character."
      ],
      "metadata": {
        "id": "O4Lh8PCkJVt6"
      }
    },
    {
      "cell_type": "code",
      "source": [
        "filename = \"data.csv\"\n",
        "email = \"student@drexel.edu\"\n",
        "\n",
        "print(filename.startswith(\"data\"))  # Checks if it starts with 'data'\n",
        "print(filename.endswith(\".csv\"))    # Checks if it ends with '.csv'\n",
        "print(email.endswith(\"meghathete@gmail.com\")) # not a Drexel mail id"
      ],
      "metadata": {
        "id": "cfXDIxU8Jp6v"
      },
      "execution_count": null,
      "outputs": []
    },
    {
      "cell_type": "markdown",
      "source": [
        "### **6. Mini Case Study**"
      ],
      "metadata": {
        "id": "yWALg_2-MJdr"
      }
    },
    {
      "cell_type": "markdown",
      "source": [
        "You’re helping your college’s Data Science Club clean up a list of student feedback comments collected from a form. The data is messy, and you’ll use everything you learned so far to fix and format it neatly for analysis.\n",
        "\n",
        "`feedback_1 = \"   megha, python is Fun!!!  \"`\n",
        "\n",
        "`feedback_2 = \"SAYALI, I LOVE DATA SCIENCE \"`\n",
        "\n",
        "`feedback_3 = \"  aNa, i am enjoying this seminar!\"`\n",
        "\n",
        "You need to clean and format these so they look neat and consistent:\n",
        "\n",
        "`Megha says: \"Python is fun!!!\"`\n",
        "\n",
        "`Sayali says: \"I love data science\"`\n",
        "\n",
        "`Ana says: \"I am enjoying this seminar!\"`"
      ],
      "metadata": {
        "id": "GMoqGMcFMV4m"
      }
    },
    {
      "cell_type": "markdown",
      "source": [
        "### **6. Solution**"
      ],
      "metadata": {
        "id": "p6N7HEC1UB2t"
      }
    },
    {
      "cell_type": "code",
      "source": [
        "feedback_1 = \"   megha, python is Fun!!!  \"\n",
        "feedback_2 = \"MANAN, I LOVE DATA SCIENCE \"\n",
        "feedback_3 = \"  aNa, i am enjoying this seminar!\""
      ],
      "metadata": {
        "id": "162wWWScNJGV"
      },
      "execution_count": null,
      "outputs": []
    },
    {
      "cell_type": "code",
      "source": [
        "feedback_1 = feedback_1.strip()\n",
        "feedback_2 = feedback_2.strip()\n",
        "feedback_3 = feedback_3.strip()\n",
        "\n",
        "print(f'{feedback_1}\\n{feedback_2}\\n{feedback_3}')"
      ],
      "metadata": {
        "colab": {
          "base_uri": "https://localhost:8080/"
        },
        "id": "8INTpdTRNSmb",
        "outputId": "4d2dc4be-1ab7-4ad9-f923-3c6d422f188e"
      },
      "execution_count": null,
      "outputs": [
        {
          "output_type": "stream",
          "name": "stdout",
          "text": [
            "megha, python is Fun!!!\n",
            "MANAN, I LOVE DATA SCIENCE\n",
            "aNa, i am enjoying this seminar!\n"
          ]
        }
      ]
    },
    {
      "cell_type": "code",
      "source": [
        "name1, comment1 = feedback_1.split(\", \", 1)\n",
        "name2, comment2 = feedback_2.split(\", \", 1)\n",
        "name3, comment3 = feedback_3.split(\", \", 1)"
      ],
      "metadata": {
        "id": "kOwGG4l6N0yN"
      },
      "execution_count": null,
      "outputs": []
    },
    {
      "cell_type": "code",
      "source": [
        "name1, name2, name3 = name1.title(), name2.title(), name3.title()\n",
        "comment1, comment2, comment3 = comment1.capitalize(), comment2.capitalize(), comment3.capitalize()"
      ],
      "metadata": {
        "id": "o1sgVocYOBlM"
      },
      "execution_count": null,
      "outputs": []
    },
    {
      "cell_type": "code",
      "source": [
        "print(f'{name1} says: \"{comment1}\"')\n",
        "print(f'{name2} says: \"{comment2}\"')\n",
        "print(f'{name3} says: \"{comment3}\"')"
      ],
      "metadata": {
        "colab": {
          "base_uri": "https://localhost:8080/"
        },
        "id": "NYGw4FsqTisT",
        "outputId": "fd4ce081-b7e0-49f7-e468-02c5f1d68442"
      },
      "execution_count": null,
      "outputs": [
        {
          "output_type": "stream",
          "name": "stdout",
          "text": [
            "Megha says: \"Python is fun!!!\"\n",
            "Manan says: \"I love data science\"\n",
            "Ana says: \"I am enjoying this seminar!\"\n"
          ]
        }
      ]
    }
  ]
}